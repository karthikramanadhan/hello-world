{
  "nbformat": 4,
  "nbformat_minor": 0,
  "metadata": {
    "colab": {
      "provenance": [],
      "authorship_tag": "ABX9TyODiZKYHxgmotvCLSZh4wUj",
      "include_colab_link": true
    },
    "kernelspec": {
      "name": "python3",
      "display_name": "Python 3"
    },
    "language_info": {
      "name": "python"
    }
  },
  "cells": [
    {
      "cell_type": "markdown",
      "metadata": {
        "id": "view-in-github",
        "colab_type": "text"
      },
      "source": [
        "<a href=\"https://colab.research.google.com/github/karthikramanadhan/hello-world/blob/master/GeneratorDIscrim.ipynb\" target=\"_parent\"><img src=\"https://colab.research.google.com/assets/colab-badge.svg\" alt=\"Open In Colab\"/></a>"
      ]
    },
    {
      "cell_type": "code",
      "execution_count": 2,
      "metadata": {
        "id": "HTCRyZ-PsYDX"
      },
      "outputs": [],
      "source": [
        "\n",
        "\n",
        "# Imports\n",
        "\n",
        "import numpy as np\n",
        "from numpy import random\n",
        "from matplotlib import pyplot as plt\n",
        "%matplotlib inline\n",
        "\n"
      ]
    },
    {
      "cell_type": "code",
      "source": [
        "\n",
        "\n",
        "# Drawing function\n",
        "\n",
        "def view_samples(samples, m, n):\n",
        "    fig, axes = plt.subplots(figsize=(10, 10), nrows=m, ncols=n, sharey=True, sharex=True)\n",
        "    for ax, img in zip(axes.flatten(), samples):\n",
        "        ax.xaxis.set_visible(False)\n",
        "        ax.yaxis.set_visible(False)\n",
        "        im = ax.imshow(1-img.reshape((2,2)), cmap='Greys_r')  \n",
        "    return fig, axes\n",
        "\n"
      ],
      "metadata": {
        "id": "8O8MO_As1k2I"
      },
      "execution_count": 3,
      "outputs": []
    },
    {
      "cell_type": "code",
      "source": [
        "# Examples of faces\n",
        "faces = [np.array([1,0,0,1]),\n",
        "         np.array([0.9,0.1,0.2,0.8]),\n",
        "         np.array([0.9,0.2,0.1,0.8]),\n",
        "         np.array([0.8,0.1,0.2,0.9]),\n",
        "         np.array([0.8,0.2,0.1,0.9])]\n",
        "    \n",
        "_ = view_samples(faces, 1, 3)"
      ],
      "metadata": {
        "colab": {
          "base_uri": "https://localhost:8080/",
          "height": 264
        },
        "id": "YQPz80jO1n69",
        "outputId": "70ca21c1-c216-4730-9d44-527050a3347e"
      },
      "execution_count": 7,
      "outputs": [
        {
          "output_type": "display_data",
          "data": {
            "text/plain": [
              "<Figure size 1000x1000 with 3 Axes>"
            ],
            "image/png": "[encoded data removed]"
          },
          "metadata": {}
        }
      ]
    },
    {
      "cell_type": "code",
      "source": [
        "\n",
        "\n",
        "# Examples of noisy images\n",
        "noise = [np.random.randn(2,2) for i in range(20)]\n",
        "def generate_random_image():\n",
        "    return [np.random.random(), np.random.random(), np.random.random(), np.random.random()]\n",
        "\n",
        "_ = view_samples(noise, 4,5)\n",
        "\n"
      ],
      "metadata": {
        "colab": {
          "base_uri": "https://localhost:8080/",
          "height": 773
        },
        "id": "QSWODTPL2iTl",
        "outputId": "699ba9fd-7226-49b8-c868-60121a55bfbb"
      },
      "execution_count": 9,
      "outputs": [
        {
          "output_type": "display_data",
          "data": {
            "text/plain": [
              "<Figure size 1000x1000 with 20 Axes>"
            ],
            "image/png": "[encoded data removed]"
          },
          "metadata": {}
        }
      ]
    },
    {
      "cell_type": "code",
      "source": [
        "\n",
        "\n",
        "# The sigmoid activation function\n",
        "def sigmoid(x):\n",
        "    return np.exp(x)/(1.0+np.exp(x))\n",
        "\n"
      ],
      "metadata": {
        "id": "84NPj9x-3Jn4"
      },
      "execution_count": 10,
      "outputs": []
    },
    {
      "cell_type": "code",
      "source": [
        "class Discriminator():\n",
        "    def __init__(self):\n",
        "        #self.weights = np.array([0.0 for i in range(4)])\n",
        "        #self.bias = 0.0\n",
        "        self.weights = np.array([np.random.normal() for i in range(4)])\n",
        "        self.bias = np.random.normal()\n",
        "    \n",
        "    def forward(self, x):\n",
        "        # Forward pass\n",
        "        return sigmoid(np.dot(x, self.weights) + self.bias)\n",
        "    \n",
        "    def error_from_image(self, image):\n",
        "        prediction = self.forward(image)\n",
        "        # We want the prediction to be 1, so the error is -log(prediction)\n",
        "        return -np.log(prediction)\n",
        "    \n",
        "    def derivatives_from_image(self, image):\n",
        "        prediction = self.forward(image)\n",
        "        derivatives_weights = -image * (1-prediction)\n",
        "        derivative_bias = -(1-prediction)\n",
        "        return derivatives_weights, derivative_bias\n",
        "    \n",
        "    def update_from_image(self, x):\n",
        "        ders = self.derivatives_from_image(x)\n",
        "        self.weights -= learning_rate * ders[0]\n",
        "        self.bias -= learning_rate * ders[1]\n",
        "\n",
        "    def error_from_noise(self, noise):\n",
        "        prediction = self.forward(noise)\n",
        "        # We want the prediction to be 0, so the error is -log(1-prediction)\n",
        "        return -np.log(1-prediction)\n",
        "    \n",
        "    def derivatives_from_noise(self, noise):\n",
        "        prediction = self.forward(noise)\n",
        "        derivatives_weights = noise * prediction\n",
        "        derivative_bias = prediction\n",
        "        return derivatives_weights, derivative_bias\n",
        "    \n",
        "    def update_from_noise(self, noise):\n",
        "        ders = self.derivatives_from_noise(noise)\n",
        "        self.weights -= learning_rate * ders[0]\n",
        "        self.bias -= learning_rate * ders[1]"
      ],
      "metadata": {
        "id": "GkjWqOEv3LL7"
      },
      "execution_count": 11,
      "outputs": []
    },
    {
      "cell_type": "code",
      "source": [
        "class Generator():\n",
        "    def __init__(self):\n",
        "        self.weights = np.array([np.random.normal() for i in range(4)])\n",
        "        self.biases = np.array([np.random.normal() for i in range(4)])\n",
        "\n",
        "    def forward(self, z):\n",
        "        # Forward pass\n",
        "        return sigmoid(z * self.weights + self.biases)\n",
        "\n",
        "    def error(self, z, discriminator):\n",
        "        x = self.forward(z)\n",
        "        # We want the prediction to be 0, so the error is -log(1-prediction)\n",
        "        y = discriminator.forward(x)\n",
        "        return -np.log(y)\n",
        "\n",
        "    def derivatives(self, z, discriminator):\n",
        "        discriminator_weights = discriminator.weights\n",
        "        discriminator_bias = discriminator.bias\n",
        "        x = self.forward(z)\n",
        "        y = discriminator.forward(x)\n",
        "        factor = -(1-y) * discriminator_weights * x *(1-x)\n",
        "        derivatives_weights = factor * z\n",
        "        derivative_bias = factor\n",
        "        return derivatives_weights, derivative_bias\n",
        "\n",
        "    def update(self, z, discriminator):\n",
        "        error_before = self.error(z, discriminator)\n",
        "        ders = self.derivatives(z, discriminator)\n",
        "        self.weights -= learning_rate * ders[0]\n",
        "        self.biases -= learning_rate * ders[1]\n",
        "        error_after = self.error(z, discriminator)"
      ],
      "metadata": {
        "id": "tc7V0xdW3Z7P"
      },
      "execution_count": 12,
      "outputs": []
    }
  ]
}